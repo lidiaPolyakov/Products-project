{
 "cells": [
  {
   "cell_type": "markdown",
   "id": "a32f977d",
   "metadata": {},
   "source": [
    "# InsideOut Final Project Shenkar College 2024"
   ]
  },
  {
   "cell_type": "code",
   "execution_count": null,
   "id": "e40b708e",
   "metadata": {},
   "outputs": [],
   "source": [
    "import pandas as pd\n",
    "import numpy as np\n",
    "import os"
   ]
  },
  {
   "cell_type": "markdown",
   "id": "df6defc2",
   "metadata": {},
   "source": [
    "# Loading Dataset 2"
   ]
  },
  {
   "cell_type": "markdown",
   "id": "a929248c",
   "metadata": {},
   "source": []
  },
  {
   "cell_type": "code",
   "execution_count": 4,
   "id": "09071f1e",
   "metadata": {},
   "outputs": [
    {
     "name": "stdout",
     "output_type": "stream",
     "text": [
      "<class 'pandas.core.frame.DataFrame'>\n",
      "RangeIndex: 505 entries, 0 to 504\n",
      "Data columns (total 28 columns):\n",
      " #   Column                            Non-Null Count  Dtype  \n",
      "---  ------                            --------------  -----  \n",
      " 0   BlindedIDs                        502 non-null    object \n",
      " 1   PATIENT_ID                        479 non-null    float64\n",
      " 2   Stratagene                        505 non-null    int64  \n",
      " 3   DC_STUDY_ID                       479 non-null    object \n",
      " 4   MICROARRAY                        505 non-null    object \n",
      " 5   SITE                              505 non-null    object \n",
      " 6   TESTTYPE                          505 non-null    object \n",
      " 7   IN_DC_STUDY                       505 non-null    int64  \n",
      " 8   GENDER                            478 non-null    object \n",
      " 9   AGE_AT_DIAGNOSIS                  478 non-null    float64\n",
      " 10  RACE                              478 non-null    object \n",
      " 11  ADJUVANT_CHEMO                    478 non-null    object \n",
      " 12  ADJUVANT_RT                       478 non-null    object \n",
      " 13  VITAL_STATUS                      478 non-null    object \n",
      " 14  FIRST_PROGRESSION_OR_RELAPSE      403 non-null    object \n",
      " 15  MONTHS_TO_FIRST_PROGRESSION       188 non-null    float64\n",
      " 16  MTHS_TO_LAST_CLINICAL_ASSESSMENT  460 non-null    object \n",
      " 17  MONTHS_TO_LAST_CONTACT_OR_DEATH   470 non-null    object \n",
      " 18  SMOKING_HISTORY                   476 non-null    object \n",
      " 19  SURGICAL_MARGINS                  467 non-null    object \n",
      " 20  PATHOLOGIC_N_STAGE                468 non-null    object \n",
      " 21  PATHOLOGIC_T_STAGE                468 non-null    object \n",
      " 22  MEDIAN_INTENSITY_UNNORMALIZED     499 non-null    float64\n",
      " 23  PCT_ARRAY_OUTLIER                 499 non-null    float64\n",
      " 24  PCT_SINGLE_OUTLIER                499 non-null    float64\n",
      " 25  WARNING                           44 non-null     object \n",
      " 26  LABORATORY_BATCH                  392 non-null    float64\n",
      " 27  Histologic grade                  459 non-null    object \n",
      "dtypes: float64(7), int64(2), object(19)\n",
      "memory usage: 110.6+ KB\n"
     ]
    }
   ],
   "source": [
    "df = pd.read_csv('dataset2.csv')\n",
    "df.info()"
   ]
  }
 ],
 "metadata": {
  "kernelspec": {
   "display_name": "Python 3",
   "language": "python",
   "name": "python3"
  },
  "language_info": {
   "codemirror_mode": {
    "name": "ipython",
    "version": 3
   },
   "file_extension": ".py",
   "mimetype": "text/x-python",
   "name": "python",
   "nbconvert_exporter": "python",
   "pygments_lexer": "ipython3",
   "version": "3.11.7"
  }
 },
 "nbformat": 4,
 "nbformat_minor": 5
}
