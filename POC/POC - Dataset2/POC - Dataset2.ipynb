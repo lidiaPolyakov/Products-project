{
 "cells": [
  {
   "cell_type": "markdown",
   "id": "a32f977d",
   "metadata": {},
   "source": [
    "# InsideOut Final Project Shenkar College 2024"
   ]
  },
  {
   "cell_type": "code",
   "execution_count": null,
   "id": "e40b708e",
   "metadata": {},
   "outputs": [],
   "source": [
    "import pandas as pd\n",
    "import numpy as np\n",
    "import os"
   ]
  },
  {
   "cell_type": "markdown",
   "id": "df6defc2",
   "metadata": {},
   "source": [
    "# Loading Dataset 2"
   ]
  },
  {
   "cell_type": "code",
   "execution_count": 9,
   "id": "09071f1e",
   "metadata": {},
   "outputs": [],
   "source": [
    "ds2 = pd.read_csv('dataset2.csv')"
   ]
  },
  {
   "cell_type": "markdown",
   "id": "52dc960b",
   "metadata": {},
   "source": [
    "# Nulls in the dataset by feature"
   ]
  },
  {
   "cell_type": "code",
   "execution_count": 10,
   "id": "1f3d256f",
   "metadata": {},
   "outputs": [
    {
     "data": {
      "text/plain": [
       "BlindedIDs                            3\n",
       "PATIENT_ID                           26\n",
       "Stratagene                            0\n",
       "DC_STUDY_ID                          26\n",
       "MICROARRAY                            0\n",
       "SITE                                  0\n",
       "TESTTYPE                              0\n",
       "IN_DC_STUDY                           0\n",
       "GENDER                               27\n",
       "AGE_AT_DIAGNOSIS                     27\n",
       "RACE                                 27\n",
       "ADJUVANT_CHEMO                       27\n",
       "ADJUVANT_RT                          27\n",
       "VITAL_STATUS                         27\n",
       "FIRST_PROGRESSION_OR_RELAPSE        102\n",
       "MONTHS_TO_FIRST_PROGRESSION         317\n",
       "MTHS_TO_LAST_CLINICAL_ASSESSMENT     45\n",
       "MONTHS_TO_LAST_CONTACT_OR_DEATH      35\n",
       "SMOKING_HISTORY                      29\n",
       "SURGICAL_MARGINS                     38\n",
       "PATHOLOGIC_N_STAGE                   37\n",
       "PATHOLOGIC_T_STAGE                   37\n",
       "MEDIAN_INTENSITY_UNNORMALIZED         6\n",
       "PCT_ARRAY_OUTLIER                     6\n",
       "PCT_SINGLE_OUTLIER                    6\n",
       "WARNING                             461\n",
       "LABORATORY_BATCH                    113\n",
       "Histologic grade                     46\n",
       "dtype: int64"
      ]
     },
     "execution_count": 10,
     "metadata": {},
     "output_type": "execute_result"
    }
   ],
   "source": [
    "ds2.isnull().sum()"
   ]
  },
  {
   "cell_type": "code",
   "execution_count": 11,
   "id": "b308d18a",
   "metadata": {},
   "outputs": [
    {
     "name": "stdout",
     "output_type": "stream",
     "text": [
      "BlindedIDs                           0.594059\n",
      "PATIENT_ID                           5.148515\n",
      "Stratagene                           0.000000\n",
      "DC_STUDY_ID                          5.148515\n",
      "MICROARRAY                           0.000000\n",
      "SITE                                 0.000000\n",
      "TESTTYPE                             0.000000\n",
      "IN_DC_STUDY                          0.000000\n",
      "GENDER                               5.346535\n",
      "AGE_AT_DIAGNOSIS                     5.346535\n",
      "RACE                                 5.346535\n",
      "ADJUVANT_CHEMO                       5.346535\n",
      "ADJUVANT_RT                          5.346535\n",
      "VITAL_STATUS                         5.346535\n",
      "FIRST_PROGRESSION_OR_RELAPSE        20.198020\n",
      "MONTHS_TO_FIRST_PROGRESSION         62.772277\n",
      "MTHS_TO_LAST_CLINICAL_ASSESSMENT     8.910891\n",
      "MONTHS_TO_LAST_CONTACT_OR_DEATH      6.930693\n",
      "SMOKING_HISTORY                      5.742574\n",
      "SURGICAL_MARGINS                     7.524752\n",
      "PATHOLOGIC_N_STAGE                   7.326733\n",
      "PATHOLOGIC_T_STAGE                   7.326733\n",
      "MEDIAN_INTENSITY_UNNORMALIZED        1.188119\n",
      "PCT_ARRAY_OUTLIER                    1.188119\n",
      "PCT_SINGLE_OUTLIER                   1.188119\n",
      "WARNING                             91.287129\n",
      "LABORATORY_BATCH                    22.376238\n",
      "Histologic grade                     9.108911\n",
      "dtype: float64\n"
     ]
    }
   ],
   "source": [
    "# Percentage of missing (null) values in each column of the DataFrame 'df'\n",
    "missing_percentage = ds2.isnull().sum() / len(ds2) * 100\n",
    "print(missing_percentage)"
   ]
  }
 ],
 "metadata": {
  "kernelspec": {
   "display_name": "Python 3",
   "language": "python",
   "name": "python3"
  },
  "language_info": {
   "codemirror_mode": {
    "name": "ipython",
    "version": 3
   },
   "file_extension": ".py",
   "mimetype": "text/x-python",
   "name": "python",
   "nbconvert_exporter": "python",
   "pygments_lexer": "ipython3",
   "version": "3.11.7"
  }
 },
 "nbformat": 4,
 "nbformat_minor": 5
}
