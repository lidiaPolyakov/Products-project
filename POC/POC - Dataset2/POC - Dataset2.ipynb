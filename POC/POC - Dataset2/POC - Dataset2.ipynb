{
 "cells": [
  {
   "cell_type": "markdown",
   "id": "723b442e",
   "metadata": {},
   "source": [
    "# InsideOut Final Project Shenkar College 2024"
   ]
  },
  {
   "cell_type": "code",
   "execution_count": null,
   "id": "e40b708e",
   "metadata": {
    "vscode": {
     "languageId": "plaintext"
    }
   },
   "outputs": [],
   "source": [
    "import pandas as pd"
   ]
  },
  {
   "cell_type": "markdown",
   "id": "df6defc2",
   "metadata": {},
   "source": [
    "# Loading Dataset 2"
   ]
  },
  {
   "cell_type": "markdown",
   "id": "a929248c",
   "metadata": {},
   "source": []
  }
 ],
 "metadata": {
  "language_info": {
   "name": "python"
  }
 },
 "nbformat": 4,
 "nbformat_minor": 5
}
