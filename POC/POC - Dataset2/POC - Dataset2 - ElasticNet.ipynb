{
 "cells": [
  {
   "cell_type": "markdown",
   "metadata": {},
   "source": [
    "## Imports"
   ]
  },
  {
   "cell_type": "code",
   "execution_count": 60,
   "metadata": {},
   "outputs": [],
   "source": [
    "import pandas as pd\n",
    "import numpy as np\n",
    "import matplotlib.pyplot as plt\n",
    "import seaborn as sns\n",
    "from sklearn.model_selection import train_test_split # Importing train_test_split function\n",
    "from sklearn.model_selection import cross_val_score\n",
    "from sklearn.preprocessing import StandardScaler, OneHotEncoder\n",
    "from sklearn.compose import ColumnTransformer \n",
    "from sklearn.pipeline import Pipeline\n",
    "from sklearn.impute import SimpleImputer\n",
    "from sklearn.linear_model import ElasticNet\n",
    "from sklearn.metrics import mean_squared_error, r2_score\n",
    "from sklearn.metrics import confusion_matrix, classification_report, roc_auc_score, roc_curve\n",
    "import warnings # To ignore warnings\n",
    "warnings.filterwarnings('ignore')"
   ]
  },
  {
   "cell_type": "markdown",
   "metadata": {},
   "source": [
    "## Loading Dataset 2\n"
   ]
  },
  {
   "cell_type": "code",
   "execution_count": 61,
   "metadata": {},
   "outputs": [
    {
     "data": {
      "text/html": [
       "<div>\n",
       "<style scoped>\n",
       "    .dataframe tbody tr th:only-of-type {\n",
       "        vertical-align: middle;\n",
       "    }\n",
       "\n",
       "    .dataframe tbody tr th {\n",
       "        vertical-align: top;\n",
       "    }\n",
       "\n",
       "    .dataframe thead th {\n",
       "        text-align: right;\n",
       "    }\n",
       "</style>\n",
       "<table border=\"1\" class=\"dataframe\">\n",
       "  <thead>\n",
       "    <tr style=\"text-align: right;\">\n",
       "      <th></th>\n",
       "      <th>BlindedIDs</th>\n",
       "      <th>PATIENT_ID</th>\n",
       "      <th>Stratagene</th>\n",
       "      <th>DC_STUDY_ID</th>\n",
       "      <th>MICROARRAY</th>\n",
       "      <th>SITE</th>\n",
       "      <th>TESTTYPE</th>\n",
       "      <th>IN_DC_STUDY</th>\n",
       "      <th>GENDER</th>\n",
       "      <th>AGE_AT_DIAGNOSIS</th>\n",
       "      <th>...</th>\n",
       "      <th>SMOKING_HISTORY</th>\n",
       "      <th>SURGICAL_MARGINS</th>\n",
       "      <th>PATHOLOGIC_N_STAGE</th>\n",
       "      <th>PATHOLOGIC_T_STAGE</th>\n",
       "      <th>MEDIAN_INTENSITY_UNNORMALIZED</th>\n",
       "      <th>PCT_ARRAY_OUTLIER</th>\n",
       "      <th>PCT_SINGLE_OUTLIER</th>\n",
       "      <th>WARNING</th>\n",
       "      <th>LABORATORY_BATCH</th>\n",
       "      <th>Histologic grade</th>\n",
       "    </tr>\n",
       "  </thead>\n",
       "  <tbody>\n",
       "    <tr>\n",
       "      <th>0</th>\n",
       "      <td>None4TestSets</td>\n",
       "      <td>151.0</td>\n",
       "      <td>0</td>\n",
       "      <td>B-NCI_U133A_1L.CHP</td>\n",
       "      <td>NCI_U133A_1L</td>\n",
       "      <td>MSKCC</td>\n",
       "      <td>Test 1</td>\n",
       "      <td>1</td>\n",
       "      <td>Male</td>\n",
       "      <td>64.0</td>\n",
       "      <td>...</td>\n",
       "      <td>Currently smoking</td>\n",
       "      <td>ALL MARGINS PATHOLOGICALLY NEGATIVE</td>\n",
       "      <td>N1, ACCORDING TO AJCC CRITERIA</td>\n",
       "      <td>T3, ACCORDING TO AJCC CRITERIA</td>\n",
       "      <td>191.0</td>\n",
       "      <td>2.536</td>\n",
       "      <td>0.143</td>\n",
       "      <td>NaN</td>\n",
       "      <td>NaN</td>\n",
       "      <td>POORLY DIFFERENTIATED</td>\n",
       "    </tr>\n",
       "    <tr>\n",
       "      <th>1</th>\n",
       "      <td>None4TestSets</td>\n",
       "      <td>152.0</td>\n",
       "      <td>0</td>\n",
       "      <td>B-NCI_U133A_2L.CHP</td>\n",
       "      <td>NCI_U133A_2L</td>\n",
       "      <td>MSKCC</td>\n",
       "      <td>Test 1</td>\n",
       "      <td>1</td>\n",
       "      <td>Male</td>\n",
       "      <td>62.0</td>\n",
       "      <td>...</td>\n",
       "      <td>Smoked in the past</td>\n",
       "      <td>ALL MARGINS PATHOLOGICALLY NEGATIVE</td>\n",
       "      <td>N0, ACCORDING TO AJCC CRITERIA</td>\n",
       "      <td>T2, ACCORDING TO AJCC CRITERIA</td>\n",
       "      <td>193.0</td>\n",
       "      <td>4.573</td>\n",
       "      <td>0.288</td>\n",
       "      <td>NaN</td>\n",
       "      <td>NaN</td>\n",
       "      <td>Moderate Differentiation</td>\n",
       "    </tr>\n",
       "    <tr>\n",
       "      <th>2</th>\n",
       "      <td>None4TestSets</td>\n",
       "      <td>153.0</td>\n",
       "      <td>0</td>\n",
       "      <td>B-NCI_U133A_3L.CHP</td>\n",
       "      <td>NCI_U133A_3L</td>\n",
       "      <td>MSKCC</td>\n",
       "      <td>Test 1</td>\n",
       "      <td>1</td>\n",
       "      <td>Female</td>\n",
       "      <td>70.0</td>\n",
       "      <td>...</td>\n",
       "      <td>Smoked in the past</td>\n",
       "      <td>ALL MARGINS PATHOLOGICALLY NEGATIVE</td>\n",
       "      <td>N0, ACCORDING TO AJCC CRITERIA</td>\n",
       "      <td>T1, ACCORDING TO AJCC CRITERIA</td>\n",
       "      <td>192.0</td>\n",
       "      <td>1.512</td>\n",
       "      <td>0.131</td>\n",
       "      <td>NaN</td>\n",
       "      <td>NaN</td>\n",
       "      <td>Moderate Differentiation</td>\n",
       "    </tr>\n",
       "    <tr>\n",
       "      <th>3</th>\n",
       "      <td>None4TestSets</td>\n",
       "      <td>154.0</td>\n",
       "      <td>0</td>\n",
       "      <td>B-NCI_U133A_4L.CHP</td>\n",
       "      <td>NCI_U133A_4L</td>\n",
       "      <td>MSKCC</td>\n",
       "      <td>Test 1</td>\n",
       "      <td>1</td>\n",
       "      <td>Male</td>\n",
       "      <td>67.0</td>\n",
       "      <td>...</td>\n",
       "      <td>Smoked in the past</td>\n",
       "      <td>ALL MARGINS PATHOLOGICALLY NEGATIVE</td>\n",
       "      <td>N2, ACCORDING TO AJCC CRITERIA</td>\n",
       "      <td>T3, ACCORDING TO AJCC CRITERIA</td>\n",
       "      <td>192.0</td>\n",
       "      <td>1.252</td>\n",
       "      <td>0.074</td>\n",
       "      <td>NaN</td>\n",
       "      <td>NaN</td>\n",
       "      <td>POORLY DIFFERENTIATED</td>\n",
       "    </tr>\n",
       "    <tr>\n",
       "      <th>4</th>\n",
       "      <td>None4TestSets</td>\n",
       "      <td>155.0</td>\n",
       "      <td>0</td>\n",
       "      <td>B-NCI_U133A_5L.CHP</td>\n",
       "      <td>NCI_U133A_5L</td>\n",
       "      <td>MSKCC</td>\n",
       "      <td>Test 1</td>\n",
       "      <td>1</td>\n",
       "      <td>Female</td>\n",
       "      <td>56.0</td>\n",
       "      <td>...</td>\n",
       "      <td>Currently smoking</td>\n",
       "      <td>ALL MARGINS PATHOLOGICALLY NEGATIVE</td>\n",
       "      <td>N1, ACCORDING TO AJCC CRITERIA</td>\n",
       "      <td>T2, ACCORDING TO AJCC CRITERIA</td>\n",
       "      <td>193.0</td>\n",
       "      <td>1.894</td>\n",
       "      <td>0.142</td>\n",
       "      <td>NaN</td>\n",
       "      <td>NaN</td>\n",
       "      <td>POORLY DIFFERENTIATED</td>\n",
       "    </tr>\n",
       "  </tbody>\n",
       "</table>\n",
       "<p>5 rows × 28 columns</p>\n",
       "</div>"
      ],
      "text/plain": [
       "      BlindedIDs  PATIENT_ID  Stratagene         DC_STUDY_ID    MICROARRAY  \\\n",
       "0  None4TestSets       151.0           0  B-NCI_U133A_1L.CHP  NCI_U133A_1L   \n",
       "1  None4TestSets       152.0           0  B-NCI_U133A_2L.CHP  NCI_U133A_2L   \n",
       "2  None4TestSets       153.0           0  B-NCI_U133A_3L.CHP  NCI_U133A_3L   \n",
       "3  None4TestSets       154.0           0  B-NCI_U133A_4L.CHP  NCI_U133A_4L   \n",
       "4  None4TestSets       155.0           0  B-NCI_U133A_5L.CHP  NCI_U133A_5L   \n",
       "\n",
       "    SITE TESTTYPE  IN_DC_STUDY  GENDER  AGE_AT_DIAGNOSIS  ...  \\\n",
       "0  MSKCC   Test 1            1    Male              64.0  ...   \n",
       "1  MSKCC   Test 1            1    Male              62.0  ...   \n",
       "2  MSKCC   Test 1            1  Female              70.0  ...   \n",
       "3  MSKCC   Test 1            1    Male              67.0  ...   \n",
       "4  MSKCC   Test 1            1  Female              56.0  ...   \n",
       "\n",
       "      SMOKING_HISTORY                     SURGICAL_MARGINS  \\\n",
       "0   Currently smoking  ALL MARGINS PATHOLOGICALLY NEGATIVE   \n",
       "1  Smoked in the past  ALL MARGINS PATHOLOGICALLY NEGATIVE   \n",
       "2  Smoked in the past  ALL MARGINS PATHOLOGICALLY NEGATIVE   \n",
       "3  Smoked in the past  ALL MARGINS PATHOLOGICALLY NEGATIVE   \n",
       "4   Currently smoking  ALL MARGINS PATHOLOGICALLY NEGATIVE   \n",
       "\n",
       "               PATHOLOGIC_N_STAGE              PATHOLOGIC_T_STAGE  \\\n",
       "0  N1, ACCORDING TO AJCC CRITERIA  T3, ACCORDING TO AJCC CRITERIA   \n",
       "1  N0, ACCORDING TO AJCC CRITERIA  T2, ACCORDING TO AJCC CRITERIA   \n",
       "2  N0, ACCORDING TO AJCC CRITERIA  T1, ACCORDING TO AJCC CRITERIA   \n",
       "3  N2, ACCORDING TO AJCC CRITERIA  T3, ACCORDING TO AJCC CRITERIA   \n",
       "4  N1, ACCORDING TO AJCC CRITERIA  T2, ACCORDING TO AJCC CRITERIA   \n",
       "\n",
       "  MEDIAN_INTENSITY_UNNORMALIZED  PCT_ARRAY_OUTLIER PCT_SINGLE_OUTLIER WARNING  \\\n",
       "0                         191.0              2.536              0.143     NaN   \n",
       "1                         193.0              4.573              0.288     NaN   \n",
       "2                         192.0              1.512              0.131     NaN   \n",
       "3                         192.0              1.252              0.074     NaN   \n",
       "4                         193.0              1.894              0.142     NaN   \n",
       "\n",
       "  LABORATORY_BATCH          Histologic grade  \n",
       "0              NaN     POORLY DIFFERENTIATED  \n",
       "1              NaN  Moderate Differentiation  \n",
       "2              NaN  Moderate Differentiation  \n",
       "3              NaN     POORLY DIFFERENTIATED  \n",
       "4              NaN     POORLY DIFFERENTIATED  \n",
       "\n",
       "[5 rows x 28 columns]"
      ]
     },
     "execution_count": 61,
     "metadata": {},
     "output_type": "execute_result"
    }
   ],
   "source": [
    "ds2 = pd.read_csv('dataset2.csv')\n",
    "ds2.head()"
   ]
  },
  {
   "cell_type": "markdown",
   "metadata": {},
   "source": [
    "## ElasticNet Regression  Modeling"
   ]
  },
  {
   "cell_type": "code",
   "execution_count": 62,
   "metadata": {},
   "outputs": [
    {
     "data": {
      "text/plain": [
       "(0.5080512739514746, -0.03968441853916471)"
      ]
     },
     "execution_count": 62,
     "metadata": {},
     "output_type": "execute_result"
    }
   ],
   "source": [
    "# Removing rows where the target variable is missing\n",
    "data_clean = ds2.dropna(subset=['VITAL_STATUS'])\n",
    "\n",
    "# Preparing the data again\n",
    "X_clean = data_clean.drop('VITAL_STATUS', axis=1)\n",
    "y_clean = data_clean['VITAL_STATUS']\n",
    "\n",
    "# Identifying categorical and numerical columns\n",
    "categorical_cols_clean = X_clean.select_dtypes(include=['object', 'category']).columns\n",
    "numerical_cols_clean = X_clean.select_dtypes(include=['int64', 'float64']).columns\n",
    "\n",
    "# Creating transformers for numerical and categorical data\n",
    "numerical_transformer = Pipeline(steps=[ \n",
    "    ('imputer', SimpleImputer(strategy='mean')),\n",
    "    ('scaler', StandardScaler())\n",
    "])\n",
    "\n",
    "categorical_transformer = Pipeline(steps=[\n",
    "    ('imputer', SimpleImputer(strategy='constant', fill_value='missing')),\n",
    "    ('onehot', OneHotEncoder(handle_unknown='ignore'))\n",
    "])\n",
    "\n",
    "# Updating the ColumnTransformer with the clean data\n",
    "preprocessor_clean = ColumnTransformer(\n",
    "    transformers=[ \n",
    "        ('num', numerical_transformer, numerical_cols_clean),\n",
    "        ('cat', categorical_transformer, categorical_cols_clean)\n",
    "    ])\n",
    "\n",
    "# Creates a Pipeline that first applies the preprocessing steps and then fits an ElasticNet model.\n",
    "elastic_net_model_clean = Pipeline(steps=[\n",
    "    ('preprocessor', preprocessor_clean),\n",
    "    ('model', ElasticNet(random_state=0))\n",
    "])\n",
    "from sklearn.preprocessing import LabelEncoder\n",
    "\n",
    "# Encoding the target variable\n",
    "label_encoder = LabelEncoder()\n",
    "y_encoded = label_encoder.fit_transform(y_clean)\n",
    "\n",
    "# Splitting the data into training and testing sets with encoded target\n",
    "X_train_encoded, X_test_encoded, y_train_encoded, y_test_encoded = train_test_split(\n",
    "    X_clean, y_encoded, test_size=0.2, random_state=0\n",
    ")\n",
    "\n",
    "# Training the ElasticNet model on the encoded data\n",
    "elastic_net_model_clean.fit(X_train_encoded, y_train_encoded)\n",
    "\n",
    "# Predicting and evaluating the model on the encoded test data\n",
    "y_pred_encoded = elastic_net_model_clean.predict(X_test_encoded)\n",
    "rmse_encoded = np.sqrt(mean_squared_error(y_test_encoded, y_pred_encoded))\n",
    "r2_encoded = r2_score(y_test_encoded, y_pred_encoded)\n",
    "\n",
    "# Root Mean Squared Error and R2 Score\n",
    "# metrics indicating the model's prediction error and the proportion of variance in the target variable that is predictable from the features\n",
    "rmse_encoded, r2_encoded"
   ]
  },
  {
   "cell_type": "markdown",
   "metadata": {},
   "source": [
    "### Skewed Confusion Matrix\n",
    "Top-Left Cell (0): True Negatives (TN) - The number of negative instances (class 0) correctly classified as negative. In your case, there are 0 true negatives, meaning that no negative class instances were correctly identified.\n",
    "\n",
    "Top-Right Cell (52): False Positives (FP) - The number of negative instances incorrectly classified as positive. Here, there are 52 instances that were actually negative but were incorrectly predicted as positive.\n",
    "\n",
    "Bottom-Left Cell (0): False Negatives (FN) - The number of positive instances (class 1) incorrectly classified as negative. In your model, there are 0 false negatives, indicating that all positive instances were correctly identified as positive.\n",
    "\n",
    "Bottom-Right Cell (44): True Positives (TP) - The number of positive instances correctly classified as positive. Your model correctly identified 44 instances as positive.\n"
   ]
  },
  {
   "cell_type": "markdown",
   "metadata": {},
   "source": [
    "### Confusion Matrix"
   ]
  },
  {
   "cell_type": "code",
   "execution_count": 63,
   "metadata": {},
   "outputs": [
    {
     "data": {
      "text/plain": [
       "array([[ 0, 52],\n",
       "       [ 0, 44]], dtype=int64)"
      ]
     },
     "execution_count": 63,
     "metadata": {},
     "output_type": "execute_result"
    }
   ],
   "source": [
    "# Using 0.5 as threshold for classification\n",
    "y_pred_class = (y_pred_encoded > 0.5).astype(int)\n",
    "conf_matrix = confusion_matrix(y_test_encoded, y_pred_class)\n",
    "conf_matrix"
   ]
  },
  {
   "cell_type": "markdown",
   "metadata": {},
   "source": [
    "### Classification Report"
   ]
  },
  {
   "cell_type": "code",
   "execution_count": 64,
   "metadata": {},
   "outputs": [
    {
     "data": {
      "text/html": [
       "<div>\n",
       "<style scoped>\n",
       "    .dataframe tbody tr th:only-of-type {\n",
       "        vertical-align: middle;\n",
       "    }\n",
       "\n",
       "    .dataframe tbody tr th {\n",
       "        vertical-align: top;\n",
       "    }\n",
       "\n",
       "    .dataframe thead th {\n",
       "        text-align: right;\n",
       "    }\n",
       "</style>\n",
       "<table border=\"1\" class=\"dataframe\">\n",
       "  <thead>\n",
       "    <tr style=\"text-align: right;\">\n",
       "      <th></th>\n",
       "      <th>precision</th>\n",
       "      <th>recall</th>\n",
       "      <th>f1-score</th>\n",
       "      <th>support</th>\n",
       "    </tr>\n",
       "  </thead>\n",
       "  <tbody>\n",
       "    <tr>\n",
       "      <th>0</th>\n",
       "      <td>0.000000</td>\n",
       "      <td>0.000000</td>\n",
       "      <td>0.000000</td>\n",
       "      <td>52.000000</td>\n",
       "    </tr>\n",
       "    <tr>\n",
       "      <th>1</th>\n",
       "      <td>0.458333</td>\n",
       "      <td>1.000000</td>\n",
       "      <td>0.628571</td>\n",
       "      <td>44.000000</td>\n",
       "    </tr>\n",
       "    <tr>\n",
       "      <th>accuracy</th>\n",
       "      <td>0.458333</td>\n",
       "      <td>0.458333</td>\n",
       "      <td>0.458333</td>\n",
       "      <td>0.458333</td>\n",
       "    </tr>\n",
       "    <tr>\n",
       "      <th>macro avg</th>\n",
       "      <td>0.229167</td>\n",
       "      <td>0.500000</td>\n",
       "      <td>0.314286</td>\n",
       "      <td>96.000000</td>\n",
       "    </tr>\n",
       "    <tr>\n",
       "      <th>weighted avg</th>\n",
       "      <td>0.210069</td>\n",
       "      <td>0.458333</td>\n",
       "      <td>0.288095</td>\n",
       "      <td>96.000000</td>\n",
       "    </tr>\n",
       "  </tbody>\n",
       "</table>\n",
       "</div>"
      ],
      "text/plain": [
       "              precision    recall  f1-score    support\n",
       "0              0.000000  0.000000  0.000000  52.000000\n",
       "1              0.458333  1.000000  0.628571  44.000000\n",
       "accuracy       0.458333  0.458333  0.458333   0.458333\n",
       "macro avg      0.229167  0.500000  0.314286  96.000000\n",
       "weighted avg   0.210069  0.458333  0.288095  96.000000"
      ]
     },
     "execution_count": 64,
     "metadata": {},
     "output_type": "execute_result"
    }
   ],
   "source": [
    "class_report = classification_report(y_test_encoded, y_pred_class, output_dict= True)\n",
    "df_report = pd.DataFrame(class_report).transpose()\n",
    "df_report"
   ]
  },
  {
   "cell_type": "markdown",
   "metadata": {},
   "source": [
    "### ROC Curve and AUC\n",
    "This value is a measure of the performance of your classification model. \n"
   ]
  },
  {
   "cell_type": "code",
   "execution_count": 55,
   "metadata": {},
   "outputs": [
    {
     "data": {
      "text/plain": [
       "0.5"
      ]
     },
     "execution_count": 55,
     "metadata": {},
     "output_type": "execute_result"
    }
   ],
   "source": [
    "fpr, tpr, thresholds = roc_curve(y_test_encoded, y_pred_encoded)\n",
    "roc_auc = roc_auc_score(y_test_encoded, y_pred_encoded)\n",
    "roc_auc"
   ]
  },
  {
   "cell_type": "markdown",
   "metadata": {},
   "source": [
    "### Cross-validation"
   ]
  },
  {
   "cell_type": "code",
   "execution_count": 65,
   "metadata": {},
   "outputs": [
    {
     "data": {
      "text/plain": [
       "array([nan, nan, nan, nan, nan])"
      ]
     },
     "execution_count": 65,
     "metadata": {},
     "output_type": "execute_result"
    }
   ],
   "source": [
    "cross_val_accuracy = cross_val_score(elastic_net_model_clean, X_clean, y_encoded, cv=5, scoring='accuracy')\n",
    "cross_val_accuracy"
   ]
  }
 ],
 "metadata": {
  "kernelspec": {
   "display_name": "base",
   "language": "python",
   "name": "python3"
  },
  "language_info": {
   "codemirror_mode": {
    "name": "ipython",
    "version": 3
   },
   "file_extension": ".py",
   "mimetype": "text/x-python",
   "name": "python",
   "nbconvert_exporter": "python",
   "pygments_lexer": "ipython3",
   "version": "3.10.9"
  }
 },
 "nbformat": 4,
 "nbformat_minor": 2
}
